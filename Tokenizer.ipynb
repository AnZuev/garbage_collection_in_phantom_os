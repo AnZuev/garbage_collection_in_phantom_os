{
 "cells": [
  {
   "cell_type": "raw",
   "metadata": {},
   "source": [
    "public class HelloWorld {\n",
    "    public static void main( String[] args ) {\n",
    "        System.out.println( \"Hello World!\" );\n",
    "        System.exit( 0 ); //success\n",
    "    }\n",
    "}"
   ]
  },
  {
   "cell_type": "code",
   "execution_count": 63,
   "metadata": {
    "collapsed": true
   },
   "outputs": [],
   "source": [
    "import re\n",
    "\n",
    "# read\n",
    "def read_program(filename):\n",
    "    f =  open(filename, 'r')\n",
    "    program = f.read()\n",
    "    f.close();\n",
    "    return preprocess_program(program)\n",
    "\n",
    "def preprocess_program(program):\n",
    "    lines = program.split(\"\\n\")\n",
    "    modified_lines = [re.sub(\" +\", ' ', line.lstrip()) for line in lines]\n",
    "    return \" \".join(modified_lines)\n",
    "\n",
    "def read_tokens():\n",
    "    f =  open('tokens', 'r')\n",
    "    lines = f.read().split('\\n')\n",
    "    f.close();\n",
    "    tokens = dict()\n",
    "    for line in lines:\n",
    "        if len(line) == 0:\n",
    "            continue\n",
    "        if line[0] == '#':\n",
    "            continue\n",
    "        t = line.split(' ')\n",
    "        tokens[t[0]] = t[1]\n",
    "    return tokens\n",
    "\n",
    "    \n",
    "def get_word_until_space(program, i):\n",
    "    l = len(program)\n",
    "    t = i\n",
    "    while program[t] != ' ':\n",
    "        t += 1\n",
    "        if l == t:\n",
    "            break\n",
    "    return program[i:t], t+1"
   ]
  },
  {
   "cell_type": "code",
   "execution_count": 64,
   "metadata": {},
   "outputs": [],
   "source": [
    "TOKENS = read_tokens()"
   ]
  },
  {
   "cell_type": "code",
   "execution_count": 65,
   "metadata": {},
   "outputs": [
    {
     "data": {
      "text/plain": [
       "'public class HelloWorld { public static void main( String[] args ) { System.out.println( \"Hello World!\" ); System.exit( 0 ); //success } }'"
      ]
     },
     "execution_count": 65,
     "metadata": {},
     "output_type": "execute_result"
    }
   ],
   "source": [
    "program = read_program(\"program.java\")\n",
    "program"
   ]
  },
  {
   "cell_type": "code",
   "execution_count": 67,
   "metadata": {},
   "outputs": [],
   "source": [
    "# see https://github.com/c2nes/javalang\n",
    "class ClassNode():\n",
    "    def __init__(self):\n",
    "        self.access = ''\n",
    "        self.is_static = false\n",
    "        self.name = ''\n",
    "        self.fields = []\n",
    "        self.methods = []\n",
    "    "
   ]
  },
  {
   "cell_type": "raw",
   "metadata": {},
   "source": [
    "'public class HelloWorld { public static void main( String[] args ) { System.out.println( \"Hello World!\" ); System.exit( 0 ); //success } }'"
   ]
  },
  {
   "cell_type": "code",
   "execution_count": 61,
   "metadata": {},
   "outputs": [],
   "source": [
    "def parse_class(program, i):\n",
    "    l = len(program)\n",
    "    cur_index = i\n",
    "    while cur_index <= l:\n",
    "        word, cur_index  = get_word_until_space(program, t)\n",
    "        if word == \n",
    "        \n",
    "def parse_class_body(program, i):\n",
    "    pass\n",
    "\n",
    "def parse_class_member(program, i):\n",
    "    pass\n",
    "\n",
    "def parse_method_declaration(program, i):\n",
    "    pass\n",
    "\n",
    "def parse_expression(program, i):\n",
    "    pass\n",
    "\n",
    "def parse_logical_expression(program, i):\n",
    "    pass\n",
    "\n",
    "def parse_arithmetic_expression(program, i):\n",
    "    pass\n",
    "\n",
    "def parse_method_call(program, i):\n",
    "    pass\n"
   ]
  },
  {
   "cell_type": "code",
   "execution_count": 62,
   "metadata": {},
   "outputs": [
    {
     "name": "stdout",
     "output_type": "stream",
     "text": [
      "public\n",
      "class\n",
      "HelloWorld\n",
      "{\n",
      "public\n",
      "static\n",
      "void\n",
      "main(\n",
      "String[]\n",
      "args\n",
      ")\n",
      "{\n",
      "System.out.println(\n",
      "\"Hello\n",
      "World!\"\n",
      ");\n",
      "System.exit(\n",
      "0\n",
      ");\n",
      "//success\n",
      "}\n",
      "}\n"
     ]
    }
   ],
   "source": [
    "parse_class(program, 0)"
   ]
  }
 ],
 "metadata": {
  "kernelspec": {
   "display_name": "Python 3",
   "language": "python",
   "name": "python3"
  },
  "language_info": {
   "codemirror_mode": {
    "name": "ipython",
    "version": 3
   },
   "file_extension": ".py",
   "mimetype": "text/x-python",
   "name": "python",
   "nbconvert_exporter": "python",
   "pygments_lexer": "ipython3",
   "version": "3.5.2+"
  }
 },
 "nbformat": 4,
 "nbformat_minor": 2
}
