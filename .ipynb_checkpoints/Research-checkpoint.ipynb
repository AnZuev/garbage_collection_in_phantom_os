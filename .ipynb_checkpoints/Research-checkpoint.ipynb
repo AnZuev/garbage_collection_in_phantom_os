{
 "cells": [
  {
   "cell_type": "markdown",
   "metadata": {},
   "source": [
    "This notebook is used for get statistics about methods that change garbage characteristic of the object and methods that don't. <br>\n",
    "Expected result:\n",
    "- what part of all methods are methods that don't change garbage characteristic\n",
    "- what part of all methods are methods that do change garbage characteristic\n",
    "- what part of method calls are call of methods that don't change garbage characteristic of the object\n",
    "- what part of method calls are call of methods that do change garbage characteristic of the object"
   ]
  },
  {
   "cell_type": "code",
   "execution_count": 1,
   "metadata": {
    "collapsed": true
   },
   "outputs": [],
   "source": [
    "import re\n",
    "\n",
    "# read\n",
    "def read_program(filename):\n",
    "    f =  open(filename, 'r')\n",
    "    program = f.read()\n",
    "    f.close();\n",
    "    return program\n"
   ]
  },
  {
   "cell_type": "code",
   "execution_count": 2,
   "metadata": {
    "collapsed": true
   },
   "outputs": [],
   "source": [
    "class Scope():\n",
    "    def __init__(self, parent_scope = None):\n",
    "        self.parent_scope = parent_scope\n",
    "        self.local_vars = dict()\n",
    "        self.tracked_vars = dict()\n",
    "        self.vars_to_delete = set()\n",
    "    def get_parent(self):\n",
    "        return self.parent_scope\n",
    "    def is_being_tracked(self, var):\n",
    "        tracked_vars = self.tracked_vars\n",
    "        scope = self\n",
    "        while tracked_vars.get(var, None) == None:\n",
    "            if scope.get_parent():\n",
    "                scope = scope.get_parent()\n",
    "            else:\n",
    "                return False\n",
    "        return tracked_vars.get(var)\n",
    "    def add_local_var(self, var):\n",
    "        self.local_vars[var] = self.local_vars.get(var, 0) + 1\n",
    "    def make_trackable(self, var):\n",
    "        # value is just a placeholder,\n",
    "        # the real purpose to store the key\n",
    "        self.tracked_vars[var] = 1\n",
    "    # method to make a decision what variable is safe to delete\n",
    "    # inside this scope\n",
    "    def decide(self):\n",
    "        pass"
   ]
  },
  {
   "cell_type": "code",
   "execution_count": 3,
   "metadata": {
    "collapsed": true
   },
   "outputs": [],
   "source": [
    "from enum import Enum\n",
    "class GC(Enum):\n",
    "    pass_forward = -1\n",
    "    does_not_change = 1\n",
    "    not_sure = 0\n",
    "    \n",
    "def init_methods_table(tree):\n",
    "    # key - method\n",
    "    # value - dict with key - param_name and value - pass_forward/doesn't_change/not_sure)\n",
    "    methods_table = dict()\n",
    "    for t in tree.types:\n",
    "        if str(t) == 'ClassDeclaration':\n",
    "            class_name = t.name\n",
    "            for method in t.methods:\n",
    "                param_table = dict()\n",
    "                for param in method.parameters:\n",
    "                    param_table[param.name] = GC.not_sure \n",
    "                methods_table[\".\".join([class_name, method.name])] = param_table\n",
    "    return  methods_table"
   ]
  },
  {
   "cell_type": "code",
   "execution_count": 126,
   "metadata": {
    "scrolled": true
   },
   "outputs": [
    {
     "data": {
      "text/plain": [
       "{'HelloWorld.main': {'args': <GC.not_sure: 0>, 'c': <GC.not_sure: 0>},\n",
       " 'HelloWorld.print': {'a': <GC.not_sure: 0>},\n",
       " 'HelloWorld.print2': {'a': <GC.not_sure: 0>}}"
      ]
     },
     "execution_count": 126,
     "metadata": {},
     "output_type": "execute_result"
    }
   ],
   "source": [
    "import javalang\n",
    "from javalang.tree import *\n",
    "program = read_program(\"program.txt\")\n",
    "tree = javalang.parse.parse(program)\n",
    "methods_table = init_methods_table(tree)\n",
    "methods_table"
   ]
  },
  {
   "cell_type": "code",
   "execution_count": null,
   "metadata": {
    "collapsed": true
   },
   "outputs": [],
   "source": []
  },
  {
   "cell_type": "code",
   "execution_count": 124,
   "metadata": {
    "collapsed": true
   },
   "outputs": [],
   "source": [
    "def process_class(class_obj):\n",
    "    # first we need to init scope\n",
    "    # scope for class consists only of fields\n",
    "    scope = Scope()\n",
    "    \n",
    "    for field in class_obj.fields:\n",
    "        for decl in field.declarators:\n",
    "            scope.add_local_var(decl.name)\n",
    "    return scope\n",
    "    for method in class_obj.methods:\n",
    "        process_method(method, class_obj, scope)\n",
    "    \n",
    "    \n",
    "def process_method(method, class_object, class_scope):\n",
    "    scope = Scope(class_scope)\n",
    "    for param in method.parameters:\n",
    "        scope.make_trackable(param.name)\n",
    "        \n",
    "    for command in method.body:\n",
    "        handler = handlers.get(str(command), None) #some function from dict\n",
    "        if handler:\n",
    "            handler(command, scope)\n",
    "        else:\n",
    "            print(\"Error! Can't process statement of type\", str(command))\n",
    "            continue\n",
    "    return scope\n",
    "        \n",
    "    \n",
    "def process_statement(statement, scope):\n",
    "    pass\n",
    "\n",
    "def process_method_invocation(method_invocation, scope):\n",
    "    pass\n",
    "\n",
    "# always return False because doesn't change gc of the object\n",
    "def process_literal_declaration(variable, scope):\n",
    "    return False\n",
    "\n",
    "# return True if member_reference is interesting_object\n",
    "# otherwise False\n",
    "def process_member_reference(member_reference, scope):\n",
    "    return scope.is_being_tracked(member_reference.member) != None\n",
    "\n",
    "\n",
    "def process_variable_declarator(obj, scope):\n",
    "    handler = handlers.get(str(obj.initializer), None)\n",
    "    if handler:\n",
    "        if handler(obj.initializer, scope):\n",
    "            scope.add_local_var(obj.name)\n",
    "            scope.make_trackable(obj.name)\n",
    "        else:\n",
    "            scope.add_local_var(obj.name)\n",
    "    else:\n",
    "        print(\"Can't process\", str(obj))\n",
    "        \n",
    "\n",
    "def process_class_creator(obj, scope):\n",
    "    for arg in obj.arguments:\n",
    "        handler = handlers.get(str(arg), None)\n",
    "        if handler:\n",
    "            if handler(arg, scope):\n",
    "                return True\n",
    "        else:\n",
    "            raise(\"Can't process\", obj)\n",
    "    \n",
    "def process_local_variable_declaration(declaration, scope):\n",
    "    variables = declaration.children[3]\n",
    "    for var in variables:\n",
    "        process_variable_declarator(var, scope)\n",
    "\n",
    "def process_return_statement(returnStatement, scope):\n",
    "    pass\n",
    "        \n",
    "def get_type_of_parameter(param):\n",
    "    return param.type.children[0]\n",
    "\n",
    "\n",
    "handlers = dict()\n",
    "handlers['LocalVariableDeclaration'] = process_local_variable_declaration\n",
    "handlers['Literal'] = process_literal_declaration\n",
    "handlers['MemberReference'] = process_member_reference\n",
    "handlers['ClassCreator'] = process_class_creator"
   ]
  },
  {
   "cell_type": "code",
   "execution_count": 125,
   "metadata": {},
   "outputs": [
    {
     "data": {
      "text/plain": [
       "({'a': 1, 'b': 1, 'd': 1, 'f': 1, 'fg': 1},\n",
       " {'a': 1, 'args': 1, 'b': 1, 'c': 1})"
      ]
     },
     "execution_count": 125,
     "metadata": {},
     "output_type": "execute_result"
    }
   ],
   "source": [
    "scope = process_class(tree.types[0])\n",
    "scope2 = process_method(tree.types[0].methods[0], tree.types[0], scope)\n",
    "scope2.local_vars, scope2.tracked_vars"
   ]
  },
  {
   "cell_type": "code",
   "execution_count": null,
   "metadata": {
    "collapsed": true
   },
   "outputs": [],
   "source": [
    "def process_expression(expression, class_object, scope):\n",
    "    "
   ]
  },
  {
   "cell_type": "code",
   "execution_count": 123,
   "metadata": {},
   "outputs": [
    {
     "name": "stdout",
     "output_type": "stream",
     "text": [
      "Literal\n"
     ]
    },
    {
     "data": {
      "text/plain": [
       "['attrs',\n",
       " 'children',\n",
       " 'filter',\n",
       " 'position',\n",
       " 'postfix_operators',\n",
       " 'prefix_operators',\n",
       " 'qualifier',\n",
       " 'selectors',\n",
       " 'value']"
      ]
     },
     "execution_count": 123,
     "metadata": {},
     "output_type": "execute_result"
    }
   ],
   "source": [
    "path = tree.types[0].methods[1].body[2].declarators[0].initializer.operandl.operandr\n",
    "print(path)\n",
    "list(filter(lambda x: x[0] != '_', dir(path)))"
   ]
  },
  {
   "cell_type": "code",
   "execution_count": 290,
   "metadata": {
    "collapsed": true
   },
   "outputs": [],
   "source": []
  }
 ],
 "metadata": {
  "kernelspec": {
   "display_name": "Python 3",
   "language": "python",
   "name": "python3"
  },
  "language_info": {
   "codemirror_mode": {
    "name": "ipython",
    "version": 3
   },
   "file_extension": ".py",
   "mimetype": "text/x-python",
   "name": "python",
   "nbconvert_exporter": "python",
   "pygments_lexer": "ipython3",
   "version": "3.5.2+"
  }
 },
 "nbformat": 4,
 "nbformat_minor": 2
}
