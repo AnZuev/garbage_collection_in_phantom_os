{
 "cells": [
  {
   "cell_type": "raw",
   "metadata": {},
   "source": [
    "public class HelloWorld {\n",
    "    public static void main( String[] args ) {\n",
    "        System.out.println( \"Hello World!\" );\n",
    "        System.exit( 0 ); //success\n",
    "    }\n",
    "}"
   ]
  },
  {
   "cell_type": "code",
   "execution_count": null,
   "metadata": {
    "collapsed": true
   },
   "outputs": [],
   "source": [
    "keywords = dict()\n",
    "keywords['access_modifiers'] = ['public', 'private', 'protected']\n",
    "keywords['components'] = ['class', 'enum']\n",
    "keywords['']"
   ]
  },
  {
   "cell_type": "code",
   "execution_count": 2,
   "metadata": {},
   "outputs": [
    {
     "data": {
      "text/plain": [
       "['public class HelloWorld {',\n",
       " '    public static void main( String[] args ) {',\n",
       " '        System.out.println( \"Hello World!\" );',\n",
       " '        System.exit( 0 ); //success',\n",
       " '    }',\n",
       " '}']"
      ]
     },
     "execution_count": 2,
     "metadata": {},
     "output_type": "execute_result"
    }
   ],
   "source": [
    "f =  open('program.java', 'r')\n",
    "program = f.read().split('\\n');\n",
    "f.close();\n",
    "program"
   ]
  }
 ],
 "metadata": {
  "kernelspec": {
   "display_name": "Python 3",
   "language": "python",
   "name": "python3"
  },
  "language_info": {
   "codemirror_mode": {
    "name": "ipython",
    "version": 3
   },
   "file_extension": ".py",
   "mimetype": "text/x-python",
   "name": "python",
   "nbconvert_exporter": "python",
   "pygments_lexer": "ipython3",
   "version": "3.5.2+"
  }
 },
 "nbformat": 4,
 "nbformat_minor": 2
}
