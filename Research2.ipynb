{
 "cells": [
  {
   "cell_type": "code",
   "execution_count": 35,
   "metadata": {
    "collapsed": true
   },
   "outputs": [],
   "source": [
    "from enum import Enum\n",
    "\n",
    "\n",
    "class GC(Enum):\n",
    "    pass_forward = -1\n",
    "    does_not_change = 1\n",
    "    not_sure = 0\n",
    "\n",
    "\n",
    "class Scope:\n",
    "    def __init__(self, parent_scope = None):\n",
    "        self.parent_scope = parent_scope\n",
    "        self.local_vars = dict()\n",
    "        self.tracked_vars = dict()\n",
    "        self.vars_to_delete = set()\n",
    "\n",
    "    def get_parent(self):\n",
    "        return self.parent_scope\n",
    "\n",
    "    def is_being_tracked(self, var):\n",
    "        tracked_vars = self.tracked_vars\n",
    "        scope = self\n",
    "        while tracked_vars.get(var, None) is not None:\n",
    "            if scope.get_parent():\n",
    "                scope = scope.get_parent()\n",
    "            else:\n",
    "                return False\n",
    "        return tracked_vars.get(var)\n",
    "\n",
    "    def add_local_var(self, var):\n",
    "        self.local_vars[var] = self.local_vars.get(var, 0) + 1\n",
    "\n",
    "    def make_trackable(self, var):\n",
    "        # value is just a placeholder,\n",
    "        # the real purpose to store the key\n",
    "        self.tracked_vars[var] = 1\n",
    "\n",
    "    # method to make a decision what variable is safe to delete\n",
    "    # inside this scope\n",
    "    def decide(self):\n",
    "        pass\n",
    "\n",
    "\n",
    "class MethodInfo:\n",
    "    def __init__(self, title, param_names):\n",
    "        self.title = title\n",
    "        self.param_names = param_names\n",
    "        self.param_table = dict()\n",
    "\n",
    "        for name in param_names:\n",
    "            self.param_table[name] = GC.does_not_change\n",
    "\n",
    "    def change_gc_state_of_the_param(self, param_name, new_gc_state):\n",
    "        if new_gc_state not in GC:\n",
    "            raise Exception(\"Couldn't assign\", new_gc_state, \"type to param\", param_name)\n",
    "        param = self.param_table.get(param_name, None)\n",
    "        if param is not None:\n",
    "            self.param_table[param_name] = new_gc_state\n",
    "        else:\n",
    "            print(\"There is no param\", param_name, \"in method\", self.title)"
   ]
  },
  {
   "cell_type": "code",
   "execution_count": 38,
   "metadata": {
    "collapsed": true
   },
   "outputs": [],
   "source": [
    "def init_methods_table(tree):\n",
    "    # key - method\n",
    "    # value - dict with key - param_name and value - pass_forward/doesn't_change/not_sure)\n",
    "    methods_table = dict()\n",
    "    for t in tree.types:\n",
    "        if str(t) == 'ClassDeclaration':\n",
    "            class_name = t.name\n",
    "            for method in t.methods:\n",
    "                methods_table[\".\".join([class_name, method.name])] = MethodInfo(\".\".join([class_name, method.name]), list(map(lambda x: x.name, method.parameters)))\n",
    "    return methods_table\n",
    "\n",
    "\n",
    "def read_program(filename):\n",
    "    f = open(filename, 'r')\n",
    "    program = f.read()\n",
    "    f.close()\n",
    "    return program"
   ]
  },
  {
   "cell_type": "code",
   "execution_count": 82,
   "metadata": {},
   "outputs": [],
   "source": [
    "def process_class(class_obj):\n",
    "    # first we need to init scope\n",
    "    # scope for class consists only of fields\n",
    "    scope = Scope()\n",
    "\n",
    "    for field in class_obj.fields:\n",
    "        for decl in field.declarators:\n",
    "            scope.add_local_var(decl.name)\n",
    "    return scope\n",
    "\n",
    "    for method in class_obj.methods:\n",
    "        process_method(method, class_obj, scope)\n",
    "\n",
    "\n",
    "def process_method(method, class_object, class_scope):\n",
    "    scope = Scope(class_scope)\n",
    "    for param in method.parameters:\n",
    "        scope.make_trackable(param.name)\n",
    "    \n",
    "    for command in method.body:\n",
    "        process_expression(command, scope)\n",
    "\n",
    "\n",
    "# command\n",
    "def process_command(command, scope):\n",
    "    if str(command) == \"LocalVariableDeclaration\":\n",
    "        handler = basicHandlers.get(str(command), None)\n",
    "        if handler is not None:\n",
    "            handler(command, scope)\n",
    "        else:\n",
    "            print(\"Can't process command of type\", str(command))\n",
    "            raise Exception(\"ds\")\n",
    "    \n",
    "\n",
    "\n",
    "# always return False because doesn't change gc of the object\n",
    "def process_literal_declaration(variable, scope):\n",
    "    return False\n",
    "\n",
    "\n",
    "# return True if member_reference is interesting_object\n",
    "# otherwise False\n",
    "def process_member_reference(member_reference, scope):\n",
    "    return scope.is_being_tracked(member_reference.member) is not None\n",
    "\n",
    "\n",
    "# processes classCreator\n",
    "def process_class_creator(obj, scope):\n",
    "    for arg in obj.arguments:\n",
    "        process_expression(arg, scope)\n",
    "\n",
    "\n",
    "def process_expression(expression, scope):\n",
    "    expression_type = str(expression)\n",
    "\n",
    "    if expression_type == \"BinaryOperation\":\n",
    "        r1 = process_expression(expression.loperand, scope)\n",
    "        r2 = process_expression(expression.roperand, scope)\n",
    "        if (r1 || r2):\n",
    "            return True\n",
    "    else:\n",
    "        handler = basicHandlers.get(expression_type, None)\n",
    "        if handler is not None:\n",
    "            return handler(expression, scope)\n",
    "        else:\n",
    "            print(\"Can't process expr of type \", expression_type)\n",
    "\n",
    "\n",
    "def process_variable_declarator(obj, scope):\n",
    "    print(obj)\n",
    "    handler = basicHandlers.get(str(obj.initializer), None)\n",
    "    print(handler)\n",
    "    if handler:\n",
    "        if handler(obj.initializer, scope):\n",
    "            scope.add_local_var(obj.name)\n",
    "            scope.make_trackable(obj.name)\n",
    "        else:\n",
    "            scope.add_local_var(obj.name)\n",
    "    else:\n",
    "        print(\"Can't process\", str(obj))\n",
    "\n",
    "\n",
    "def process_local_variable_declaration(declaration, scope):\n",
    "    variables = declaration.children[3]\n",
    "    for var in variables:\n",
    "        process_variable_declarator(var, scope)\n",
    "\n",
    "\n",
    "basicHandlers = dict()\n",
    "\n",
    "basicHandlers['LocalVariableDeclaration'] = process_local_variable_declaration\n",
    "basicHandlers['Literal'] = process_literal_declaration\n",
    "basicHandlers['MemberReference'] = process_member_reference\n",
    "basicHandlers['ClassCreator'] = process_class_creator"
   ]
  },
  {
   "cell_type": "code",
   "execution_count": 83,
   "metadata": {},
   "outputs": [],
   "source": [
    "import javalang\n",
    "from javalang.tree import *\n",
    "\n",
    "program = read_program(\"program.txt\")\n",
    "tree = javalang.parse.parse(program)\n",
    "methods_table = init_methods_table(tree)"
   ]
  },
  {
   "cell_type": "code",
   "execution_count": 84,
   "metadata": {},
   "outputs": [
    {
     "name": "stdout",
     "output_type": "stream",
     "text": [
      "VariableDeclarator\n",
      "<function process_literal_declaration at 0x7fb42431ac80>\n",
      "VariableDeclarator\n",
      "None\n",
      "Can't process VariableDeclarator\n"
     ]
    },
    {
     "ename": "AttributeError",
     "evalue": "'NoneType' object has no attribute 'local_vars'",
     "output_type": "error",
     "traceback": [
      "\u001b[0;31m---------------------------------------------------------------------------\u001b[0m",
      "\u001b[0;31mAttributeError\u001b[0m                            Traceback (most recent call last)",
      "\u001b[0;32m<ipython-input-84-cb6ac08c6f35>\u001b[0m in \u001b[0;36m<module>\u001b[0;34m()\u001b[0m\n\u001b[1;32m      1\u001b[0m \u001b[0mscope\u001b[0m \u001b[0;34m=\u001b[0m \u001b[0mprocess_class\u001b[0m\u001b[0;34m(\u001b[0m\u001b[0mtree\u001b[0m\u001b[0;34m.\u001b[0m\u001b[0mtypes\u001b[0m\u001b[0;34m[\u001b[0m\u001b[0;36m0\u001b[0m\u001b[0;34m]\u001b[0m\u001b[0;34m)\u001b[0m\u001b[0;34m\u001b[0m\u001b[0m\n\u001b[1;32m      2\u001b[0m \u001b[0mscope2\u001b[0m \u001b[0;34m=\u001b[0m \u001b[0mprocess_method\u001b[0m\u001b[0;34m(\u001b[0m\u001b[0mtree\u001b[0m\u001b[0;34m.\u001b[0m\u001b[0mtypes\u001b[0m\u001b[0;34m[\u001b[0m\u001b[0;36m0\u001b[0m\u001b[0;34m]\u001b[0m\u001b[0;34m.\u001b[0m\u001b[0mmethods\u001b[0m\u001b[0;34m[\u001b[0m\u001b[0;36m1\u001b[0m\u001b[0;34m]\u001b[0m\u001b[0;34m,\u001b[0m \u001b[0mtree\u001b[0m\u001b[0;34m.\u001b[0m\u001b[0mtypes\u001b[0m\u001b[0;34m[\u001b[0m\u001b[0;36m0\u001b[0m\u001b[0;34m]\u001b[0m\u001b[0;34m,\u001b[0m \u001b[0mscope\u001b[0m\u001b[0;34m)\u001b[0m\u001b[0;34m\u001b[0m\u001b[0m\n\u001b[0;32m----> 3\u001b[0;31m \u001b[0mscope2\u001b[0m\u001b[0;34m.\u001b[0m\u001b[0mlocal_vars\u001b[0m\u001b[0;34m,\u001b[0m \u001b[0mscope2\u001b[0m\u001b[0;34m.\u001b[0m\u001b[0mtracked_vars\u001b[0m\u001b[0;34m\u001b[0m\u001b[0m\n\u001b[0m",
      "\u001b[0;31mAttributeError\u001b[0m: 'NoneType' object has no attribute 'local_vars'"
     ]
    }
   ],
   "source": [
    "scope = process_class(tree.types[0])\n",
    "scope2 = process_method(tree.types[0].methods[1], tree.types[0], scope)\n",
    "scope2.local_vars, scope2.tracked_vars"
   ]
  },
  {
   "cell_type": "code",
   "execution_count": 33,
   "metadata": {},
   "outputs": [],
   "source": [
    "mi = list(map(lambda x: x[1], tree.types[0].methods[1].filter(javalang.tree.MethodInvocation)))"
   ]
  },
  {
   "cell_type": "code",
   "execution_count": 87,
   "metadata": {},
   "outputs": [
    {
     "data": {
      "text/plain": [
       "'f'"
      ]
     },
     "execution_count": 87,
     "metadata": {},
     "output_type": "execute_result"
    }
   ],
   "source": [
    "mi[0].arguments[0].member"
   ]
  },
  {
   "cell_type": "code",
   "execution_count": 81,
   "metadata": {},
   "outputs": [
    {
     "name": "stdout",
     "output_type": "stream",
     "text": [
      "Literal\n"
     ]
    },
    {
     "data": {
      "text/plain": [
       "['attrs',\n",
       " 'children',\n",
       " 'filter',\n",
       " 'position',\n",
       " 'postfix_operators',\n",
       " 'prefix_operators',\n",
       " 'qualifier',\n",
       " 'selectors',\n",
       " 'value']"
      ]
     },
     "execution_count": 81,
     "metadata": {},
     "output_type": "execute_result"
    }
   ],
   "source": [
    "path = tree.types[0].methods[1].body[0].declarators[0].initializer\n",
    "print(path)\n",
    "list(filter(lambda x: x[0] != '_', dir(path)))"
   ]
  },
  {
   "cell_type": "code",
   "execution_count": 29,
   "metadata": {},
   "outputs": [
    {
     "name": "stdout",
     "output_type": "stream",
     "text": [
      "f\n"
     ]
    },
    {
     "data": {
      "text/plain": [
       "['capitalize',\n",
       " 'casefold',\n",
       " 'center',\n",
       " 'count',\n",
       " 'encode',\n",
       " 'endswith',\n",
       " 'expandtabs',\n",
       " 'find',\n",
       " 'format',\n",
       " 'format_map',\n",
       " 'index',\n",
       " 'isalnum',\n",
       " 'isalpha',\n",
       " 'isdecimal',\n",
       " 'isdigit',\n",
       " 'isidentifier',\n",
       " 'islower',\n",
       " 'isnumeric',\n",
       " 'isprintable',\n",
       " 'isspace',\n",
       " 'istitle',\n",
       " 'isupper',\n",
       " 'join',\n",
       " 'ljust',\n",
       " 'lower',\n",
       " 'lstrip',\n",
       " 'maketrans',\n",
       " 'partition',\n",
       " 'replace',\n",
       " 'rfind',\n",
       " 'rindex',\n",
       " 'rjust',\n",
       " 'rpartition',\n",
       " 'rsplit',\n",
       " 'rstrip',\n",
       " 'split',\n",
       " 'splitlines',\n",
       " 'startswith',\n",
       " 'strip',\n",
       " 'swapcase',\n",
       " 'title',\n",
       " 'translate',\n",
       " 'upper',\n",
       " 'zfill']"
      ]
     },
     "execution_count": 29,
     "metadata": {},
     "output_type": "execute_result"
    }
   ],
   "source": [
    "path = mi[0].arguments[0].member\n",
    "print(path)\n",
    "list(filter(lambda x: x[0] != '_', dir(path)))"
   ]
  },
  {
   "cell_type": "code",
   "execution_count": 10,
   "metadata": {},
   "outputs": [
    {
     "name": "stdout",
     "output_type": "stream",
     "text": [
      "HelloWorld.main\n",
      "HelloWorld.print\n",
      "HelloWorld.print2\n"
     ]
    }
   ],
   "source": [
    "for method in methods_table.items():\n",
    "    print(method[1].title)"
   ]
  }
 ],
 "metadata": {
  "kernelspec": {
   "display_name": "Python 3",
   "language": "python",
   "name": "python3"
  },
  "language_info": {
   "codemirror_mode": {
    "name": "ipython",
    "version": 3
   },
   "file_extension": ".py",
   "mimetype": "text/x-python",
   "name": "python",
   "nbconvert_exporter": "python",
   "pygments_lexer": "ipython3",
   "version": "3.5.2+"
  }
 },
 "nbformat": 4,
 "nbformat_minor": 2
}
