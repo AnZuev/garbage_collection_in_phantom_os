{
 "cells": [
  {
   "cell_type": "code",
   "execution_count": 82,
   "metadata": {
    "collapsed": true
   },
   "outputs": [],
   "source": [
    "import javalang\n",
    "from javalang.tree import *\n",
    "import itertools\n",
    "\n",
    "# read\n",
    "def read_program(filename):\n",
    "    f =  open(filename, 'r')\n",
    "    program = f.read()\n",
    "    f.close();\n",
    "    return program\n",
    "\n",
    "from enum import Enum\n",
    "\n",
    "class Param_GC(Enum):\n",
    "    pass_forward = -1\n",
    "    does_not_change = 1\n",
    "    does_change = 0\n",
    "    \n",
    "\n",
    "class Variable_GC(Enum):\n",
    "    pass_forward = -1\n",
    "    garbage = 1\n",
    "    not_garbage = 0"
   ]
  },
  {
   "cell_type": "code",
   "execution_count": 379,
   "metadata": {
    "collapsed": true
   },
   "outputs": [],
   "source": [
    "class Scope:\n",
    "    def __init__(self, parent = None):\n",
    "        self.local_variables = dict()\n",
    "        self.tracked_variables = dict()\n",
    "        self.parent = parent\n",
    "    \n",
    "    def add_local_variable(self, var):\n",
    "        self.local_variables[var.name] = var\n",
    "    \n",
    "    def get_local_variable(self, var_name):\n",
    "        return self.local_variables[var_name]\n",
    "    \n",
    "    def get_parent(self):\n",
    "        return self.parent\n",
    "\n",
    "    def make_trackable(self, var_name):\n",
    "        var = self.get_local_variable(var_name)\n",
    "        if var is not None:\n",
    "            self.tracked_variables[var_name] = var\n",
    "        else:\n",
    "            raise(Exception(\"Can't make variable\", var_name, \"trackable because it's not local\"))\n",
    "    \n",
    "    def is_tracked(self, var):\n",
    "        tracked_vars = self.tracked_variables\n",
    "        scope = self\n",
    "        while tracked_vars.get(var, None) is None:\n",
    "            if scope.get_parent():\n",
    "                scope = scope.get_parent()\n",
    "            else:\n",
    "                return False\n",
    "        return True\n",
    "    \n",
    "    def get_trackable(self):\n",
    "        return set(map(lambda item: item[0], self.tracked_variables.items()))"
   ]
  },
  {
   "cell_type": "code",
   "execution_count": 309,
   "metadata": {
    "collapsed": true
   },
   "outputs": [],
   "source": [
    "class MethodInfo:\n",
    "    def __init__(self, title, params):\n",
    "        self.title = title\n",
    "        self.input_param_names = [param.name for param in params]\n",
    "        self.input_param_table = dict()\n",
    "        self.scope = None\n",
    "\n",
    "        for name in self.input_param_names:\n",
    "            self.input_param_table[name] = Param_GC.not_sure\n",
    "\n",
    "    def change_gc(self, param_name, new_gc):\n",
    "        if new_gc_state not in Param_GC:\n",
    "            raise Exception(\"Couldn't assign\", new_gc, \"type to param\", param_name)\n",
    "        param = self.input_param_table.get(param_name, None)\n",
    "        if param is not None:\n",
    "            self.input_param_table[param_name] = new_gc\n",
    "        else:\n",
    "            print(\"There is no param\", param_name, \"in method\", self.title)\n",
    "        \n",
    "    def get_gc(self, param_name):\n",
    "        return self.input_param_table[param_name]\n",
    "    \n",
    "    def attach_scope(self, scope):\n",
    "        self.scope = scope\n",
    "        \n",
    "    def does_change_gc(self, var):\n",
    "        return self.input_param_table[var]\n",
    "\n",
    "class ClassInfo:\n",
    "    def __init__(self, title, fields, parent = None):\n",
    "        self.title = title\n",
    "        self.methods = dict()\n",
    "        self.parent = parent\n",
    "        self.fields = [decl.name for decl in itertools.chain(*[field.declarators for field in fields])]\n",
    "        \n",
    "    def get_method(self, title):\n",
    "        return self.methods[title]\n",
    "    \n",
    "    def add_method(self, method):\n",
    "        self.methods[method.title] = method"
   ]
  },
  {
   "cell_type": "code",
   "execution_count": 408,
   "metadata": {
    "collapsed": true
   },
   "outputs": [],
   "source": [
    "class VariableAlias:\n",
    "    def __init__(self, name, var_type=None):\n",
    "        self.name = name\n",
    "        self.parents = set([])\n",
    "        self.gc = Variable_GC.garbage\n",
    "        self.type = var_type\n",
    "        \n",
    "    def add_parent(self, parent):\n",
    "        self.parents.add(parent)\n",
    "        \n",
    "    def change_gc(self, new_gc):\n",
    "        if new_gc not in Variable_GC:\n",
    "            raise Exception(\"Couldn't assign\", new_gc, \"type to param\", self.name)\n",
    "        else:\n",
    "            self.gc = new_gc\n",
    "            for p in self.parents:\n",
    "                p.change_gc(new_gc)"
   ]
  },
  {
   "cell_type": "code",
   "execution_count": 154,
   "metadata": {
    "collapsed": true
   },
   "outputs": [],
   "source": [
    "def get_class_table(tree):\n",
    "    class_nodes = map(lambda item: item[1], tree.filter(ClassDeclaration))\n",
    "    class_table = dict()\n",
    "    for class_node in class_nodes:\n",
    "        cl = ClassInfo(class_node.name, class_node.fields)\n",
    "        for method in class_node.methods:\n",
    "            mn = MethodInfo(method.name, method.parameters)\n",
    "            mn.attach_scope(process_method(method, Scope()))\n",
    "            cl.add_method(mn)\n",
    "        class_table[cl.title] = cl\n",
    "    return class_table"
   ]
  },
  {
   "cell_type": "code",
   "execution_count": 354,
   "metadata": {},
   "outputs": [],
   "source": [
    "def process_method(method, class_scope):\n",
    "    scope = Scope(class_scope)\n",
    "    \n",
    "    for arg in method.parameters:\n",
    "        scope.add_local_variable(VariableAlias(arg.name, arg.type))\n",
    "        scope.make_trackable(arg.name)\n",
    "    \n",
    "    for cm in method.body:\n",
    "        #print(cm)\n",
    "        res = process_expression(cm, scope)\n",
    "    return scope"
   ]
  },
  {
   "cell_type": "code",
   "execution_count": 476,
   "metadata": {},
   "outputs": [],
   "source": [
    "def process_expression(exp, scope):\n",
    "    #print(exp)\n",
    "    if exp is BinaryOperation:\n",
    "        pass\n",
    "    elif isinstance(exp, LocalVariableDeclaration):\n",
    "        return process_local_variable_declaration(exp, scope)\n",
    "    elif isinstance(exp, VariableDeclarator):\n",
    "        return process_variable_declarator(ext, scope)\n",
    "    elif exp is IfStatement:\n",
    "        pass\n",
    "    elif exp is ForStatement:\n",
    "        pass\n",
    "    elif exp is MethodInvocation:\n",
    "        pass\n",
    "    elif isinstance(exp, Literal):\n",
    "        return process_literal(exp, scope)\n",
    "    elif isinstance(exp, MemberReference):\n",
    "        return process_member_reference(exp, scope)\n",
    "    elif isinstance(exp, ClassCreator):\n",
    "        return process_class_creator(exp, scope)\n",
    "    elif isinstance(exp, ReturnStatement):\n",
    "        return process_return_statemnet(exp, scope)\n",
    "    elif isinstance(exp, StatementExpression):\n",
    "        process_statement_expression(exp, scope)\n",
    "    elif isinstance(exp, MethodInvocation):\n",
    "        process_method_invocation(exp, scope)\n",
    "    return []\n",
    "\n",
    "def process_literal(exp, scope):\n",
    "    return []\n",
    "\n",
    "def process_member_reference(exp, scope):\n",
    "    if scope.is_tracked(exp.member) is None:\n",
    "        return []\n",
    "    else:\n",
    "        return [exp.member]\n",
    "\n",
    "def process_local_variable_declaration(exp, scope):\n",
    "    variables = exp.children[3]\n",
    "    for var in variables:\n",
    "        process_variable_declarator(var, scope, exp.type.name)\n",
    "        \n",
    "def process_class_creator(exp, scope):\n",
    "    affected = []\n",
    "    for arg in exp.arguments:\n",
    "        affected.extend(process_expression(arg, scope))\n",
    "    return set(affected)\n",
    "            \n",
    "# t stands for type\n",
    "def process_variable_declarator(exp, scope, t = None):\n",
    "    variable = VariableAlias(exp.name, t)\n",
    "    scope.add_local_variable(variable)\n",
    "    affected = process_expression(exp.initializer, scope)\n",
    "    \n",
    "    for var in set.intersection(set(affected), scope.get_trackable()):\n",
    "        variable.add_parent(scope.get_local_variable(var))\n",
    "        scope.make_trackable(variable.name)\n",
    "    for var in affected:\n",
    "        variable.add_parent(scope.get_local_variable(var))\n",
    "        \n",
    "def process_statement_expression(exp, scope):\n",
    "    return process_expression(exp.expression, scope)\n",
    "\n",
    "def process_method_invocation(exp, scope):\n",
    "    affected = []\n",
    "    for arg in exp.arguments:\n",
    "        affected.extend(process_expression(arg, scope))\n",
    "    t = set.intersection(set(affected), scope.get_trackable())\n",
    "    for var in affected:\n",
    "        lv = scope.get_local_variable(var)\n",
    "        lv.change_gc(Variable_GC.pass_forward)\n",
    "    \n",
    "def process_return_statemnet(exp, scope):\n",
    "    affected = process_expression(exp.expression, scope)\n",
    "    t = set.intersection(set(affected), scope.get_trackable())\n",
    "    \n",
    "    for var in affected:\n",
    "        lv = scope.get_local_variable(var)\n",
    "        lv.change_gc(Variable_GC.not_garbage)"
   ]
  },
  {
   "cell_type": "code",
   "execution_count": 477,
   "metadata": {},
   "outputs": [],
   "source": [
    "program = read_program(\"program.txt\")\n",
    "tree = javalang.parse.parse(program)\n",
    "class_table = get_class_table(tree)"
   ]
  },
  {
   "cell_type": "raw",
   "metadata": {},
   "source": [
    "public static void main(String[] args, SomeClassName c) {\n",
    "        \n",
    "        String f = 'Hello!!!';\n",
    "        \n",
    "        String a = c;\n",
    "        String b = new String(a, f);\n",
    "        String df = \"sbf\";\n",
    "        //a = \"434\";\n",
    "        //a = b;\n",
    "        return b;\n",
    "    }"
   ]
  },
  {
   "cell_type": "code",
   "execution_count": 478,
   "metadata": {},
   "outputs": [
    {
     "name": "stdout",
     "output_type": "stream",
     "text": [
      "df Variable_GC.garbage\n",
      "args Variable_GC.garbage\n",
      "f Variable_GC.not_garbage\n",
      "b Variable_GC.not_garbage\n",
      "c Variable_GC.not_garbage\n",
      "a Variable_GC.not_garbage\n"
     ]
    }
   ],
   "source": [
    "for var in class_table['HelloWorld'].methods['main'].scope.local_variables.items():\n",
    "    print(var[0], var[1].gc)"
   ]
  },
  {
   "cell_type": "code",
   "execution_count": 479,
   "metadata": {},
   "outputs": [
    {
     "name": "stdout",
     "output_type": "stream",
     "text": [
      "b Variable_GC.not_garbage\n",
      "args Variable_GC.garbage\n",
      "c Variable_GC.not_garbage\n",
      "a Variable_GC.not_garbage\n"
     ]
    }
   ],
   "source": [
    "for var in class_table['HelloWorld'].methods['main'].scope.tracked_variables.items():\n",
    "    print(var[0], var[1].gc)"
   ]
  },
  {
   "cell_type": "code",
   "execution_count": 468,
   "metadata": {},
   "outputs": [
    {
     "name": "stdout",
     "output_type": "stream",
     "text": [
      "a\n"
     ]
    }
   ],
   "source": [
    "for i in class_table['HelloWorld'].methods['main'].scope.local_variables['b'].parents:\n",
    "    print(i.name)"
   ]
  },
  {
   "cell_type": "code",
   "execution_count": 434,
   "metadata": {},
   "outputs": [
    {
     "name": "stdout",
     "output_type": "stream",
     "text": [
      "ReturnStatement\n"
     ]
    },
    {
     "data": {
      "text/plain": [
       "['attrs', 'children', 'expression', 'filter', 'label', 'position']"
      ]
     },
     "execution_count": 434,
     "metadata": {},
     "output_type": "execute_result"
    }
   ],
   "source": [
    "path = tree.types[0].methods[2].body[1]\n",
    "print(path)\n",
    "list(filter(lambda x: x[0] != '_', dir(path)))"
   ]
  }
 ],
 "metadata": {
  "kernelspec": {
   "display_name": "Python 3",
   "language": "python",
   "name": "python3"
  },
  "language_info": {
   "codemirror_mode": {
    "name": "ipython",
    "version": 3
   },
   "file_extension": ".py",
   "mimetype": "text/x-python",
   "name": "python",
   "nbconvert_exporter": "python",
   "pygments_lexer": "ipython3",
   "version": "3.5.2+"
  }
 },
 "nbformat": 4,
 "nbformat_minor": 2
}
